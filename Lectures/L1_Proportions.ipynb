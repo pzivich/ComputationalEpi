{
 "cells": [
  {
   "cell_type": "markdown",
   "id": "b1bcfda3",
   "metadata": {},
   "source": [
    "# L1 Computing the Proportion\n",
    "\n",
    "To begin, we will focus on one of the fundamental building blocks: calculating the proportion. I chose to start with the proportion as (1) it is simple to understand, (2) it can be easily be computed by hand, and (3) it naturally builds up to more complex measures.\n",
    "\n",
    "In words, the proportion is share of events for a well-defined group. Below is the formula for the proportion of $n$ individuals whose $Y_i = 1$\n",
    "\n",
    "$$ \\hat{\\mu} = \\frac{1}{n} \\sum_i^n I(Y_i = 1)$$\n",
    "\n",
    "The proportion in this context might be important to compute as it can be used to estimate the probability, $\\mu$, for a population. To connect the estimand ($\\mu$) and the estimate ($\\hat{\\mu}$), we adopt a large-sample framework, and make the following assumptions: the $n$ units are a random sample of the population (and are only a small percent of the total population), no measurement error of $Y$, and no missing values of $Y$. Under these assumptions, we can estimate the probability using the proportion formula above.\n",
    "\n",
    "With these assumptions made, now the question becomes how can be compute $\\hat{\\mu}$. The rest of the tutorial focuses on this computational task. \n",
    "\n",
    "## 1.0 Setup\n",
    "\n",
    "For this tutorial, we will use 3 free and open-source software (FOSS) libraries. These are `NumPy`, `SciPy`, and `matplotlib`. `NumPy` is used to basic numerical operations with arrays, `SciPy` will be used for some pre-built optimization functions, and `matplotlib` will be used to create plots."
   ]
  },
  {
   "cell_type": "code",
   "execution_count": 1,
   "id": "82370df0",
   "metadata": {},
   "outputs": [],
   "source": [
    "import struct\n",
    "import numpy as np\n",
    "import scipy as sp\n",
    "import matplotlib\n",
    "import matplotlib.pyplot as plt\n",
    "\n",
    "%matplotlib inline"
   ]
  },
  {
   "cell_type": "code",
   "execution_count": 2,
   "id": "47c66608",
   "metadata": {},
   "outputs": [
    {
     "name": "stdout",
     "output_type": "stream",
     "text": [
      "Versions\n",
      "------------------\n",
      "NumPy     : 1.25.2\n",
      "SciPy     : 1.11.2\n",
      "matplotlib: 3.5.1\n"
     ]
    }
   ],
   "source": [
    "print(\"Versions\")\n",
    "print(\"------------------\")\n",
    "print('NumPy     :', np.__version__)\n",
    "print('SciPy     :', sp.__version__)\n",
    "print('matplotlib:', matplotlib.__version__)"
   ]
  },
  {
   "cell_type": "markdown",
   "id": "14471cf5",
   "metadata": {},
   "source": [
    "For all the following examples, we will use the following data. The data consists of 60 observations with 20 events."
   ]
  },
  {
   "cell_type": "code",
   "execution_count": 3,
   "id": "a26b60f5",
   "metadata": {},
   "outputs": [],
   "source": [
    "y_array = np.array([1, 1, 1, 1, 1, 0, 0, 0, 0, 0, 0, 0, 0, 0, 0,\n",
    "                    1, 1, 1, 1, 1, 0, 0, 0, 0, 0, 0, 0, 0, 0, 0,\n",
    "                    1, 1, 1, 1, 1, 0, 0, 0, 0, 0, 0, 0, 0, 0, 0,\n",
    "                    1, 1, 1, 1, 1, 0, 0, 0, 0, 0, 0, 0, 0, 0, 0])"
   ]
  },
  {
   "cell_type": "markdown",
   "id": "2371141a",
   "metadata": {},
   "source": [
    "## 1.1 Closed-form\n",
    "First, we will consider the easiest and most computationally efficient way to compute the proportion: the closed-form. The formula for $\\hat{\\mu}$ above is a *closed-form* solution, in that we can directly compute the proportion from the number of events and number of observations. The proportion (i.e., estimator for the probability) is simply requires us to count up the number of events divided by the total number of units. \n",
    "\n",
    "To begin, we will manually compute the number of events and number of observations. While not the most efficient, we will use a `for` loop here to calculate. Specifically, we will keep count of the number of observations we have seen. Then we will also keep track of the number of events that occur. Below is code to accomplish this approach"
   ]
  },
  {
   "cell_type": "code",
   "execution_count": 4,
   "id": "2b85584b",
   "metadata": {},
   "outputs": [],
   "source": [
    "def closed_form_byhand(y):\n",
    "    total_n_obs = 0                             # Initialize number of observations as zero\n",
    "    total_events = 0                            # Initialize number of events as zero\n",
    "\n",
    "    for yi in y:                                # For loop through each Y_i value in the array\n",
    "        total_n_obs = total_n_obs + 1           # ... add 1 to the number of observations counter\n",
    "        if yi == 1:                             # ... if Y_i = 1 (i.e., is an event),\n",
    "            total_events = total_events + 1     # ... then add 1 to the number of events counter\n",
    "\n",
    "    # Closed-form formula with for-loop counts\n",
    "    mu = total_events / total_n_obs\n",
    "    return mu"
   ]
  },
  {
   "cell_type": "code",
   "execution_count": 5,
   "id": "2cd5d74e",
   "metadata": {},
   "outputs": [],
   "source": [
    "mu_closedform = closed_form_byhand(y=y_array)"
   ]
  },
  {
   "cell_type": "code",
   "execution_count": 6,
   "id": "c41b2eaa",
   "metadata": {},
   "outputs": [
    {
     "name": "stdout",
     "output_type": "stream",
     "text": [
      "0.3333333333333333\n"
     ]
    }
   ],
   "source": [
    "print(mu_closedform)"
   ]
  },
  {
   "cell_type": "markdown",
   "id": "6de566d3",
   "metadata": {},
   "source": [
    "While the code above works, it is slow (as it uses a `for` loop) and is a lot of code to complete such a basic task. Instead, let's use some built-in functionalities. We will use the `len` function to compute the number of observations and the `np.sum` function to count up the number of events (1's)."
   ]
  },
  {
   "cell_type": "code",
   "execution_count": 7,
   "id": "85682555",
   "metadata": {},
   "outputs": [],
   "source": [
    "def closed_form_quick(y):\n",
    "    event_obs = np.sum(y == 1)   # Number of events\n",
    "    total_obs = len(y)           # Number of observations\n",
    "    mu = event_obs / total_obs   # Closed-form formula\n",
    "    return mu"
   ]
  },
  {
   "cell_type": "code",
   "execution_count": 8,
   "id": "5dfd38c5",
   "metadata": {},
   "outputs": [],
   "source": [
    "mu_closedform = closed_form_quick(y=y_array)"
   ]
  },
  {
   "cell_type": "code",
   "execution_count": 9,
   "id": "c5eb0800",
   "metadata": {},
   "outputs": [
    {
     "name": "stdout",
     "output_type": "stream",
     "text": [
      "0.3333333333333333\n"
     ]
    }
   ],
   "source": [
    "print(mu_closedform)"
   ]
  },
  {
   "cell_type": "markdown",
   "id": "189da037",
   "metadata": {},
   "source": [
    "As we can see above, we end up with the same answer for both approaches. This is reassuring and highlights an important lesson: implementing equivalent computational procedures in different ways is a useful check. \n",
    "\n",
    "While the closed-form is computationally efficient and simple to implement for the proportion, closed-form solutions will not always be an option when we get to more complex problems. Therefore, we consider other ways we could compute the mean.\n",
    "\n",
    "## 1.2 Maximization\n",
    "\n",
    "Another option is to use maximum likelihood estimation. Briefly, the likelihood is the joint probability of the observed values of $Y$ given $\\mu$. The likelihood is denoted as \n",
    "\n",
    "$$ \\mathcal{L}(\\mu | y)$$\n",
    "\n",
    "where $y$ is a realization of the random variable $Y$. To estimate $\\hat{\\mu}$, we can find the value of $\\mu$ that *maximizes* the likelihood give the observed data. Here, we have a binary event. As such, we will assume a Bernoulli distribution. The likelihood is therefore\n",
    "\n",
    "$$ \\mathcal{L}(\\mu | y) = \\prod_{i=1}^n \\begin{pmatrix} n \\\\ y \\end{pmatrix} \\mu^{Y_i} \\left(1 - \\mu \\right)^{1 - Y_i}$$\n",
    "\n",
    "As the first term is a constant given the data, we can safely ignore it for our maximization procedure. Therefore, we we only need to maximize \n",
    "\n",
    "$$ \\mathcal{L}(\\mu | y) = \\prod_{i=1}^n \\mu^{Y_i} \\left(1 - \\mu \\right)^{1 - Y_i}$$\n",
    "\n",
    "However, this likelihood suffers from a computational issue. When multiplying numbers is harder for the computer than summing values. Therefore, we will maximize the *log-transformed* likelihood instead, which is a series of additions rather than multiplications. Importantly, the maximum of the log-likelihood is the same as the likelihood. \n",
    "\n",
    "The log-likelihood is\n",
    "\n",
    "$$ \\mathcal{l}(\\mu | y) = \\sum_{i=1}^n \\left[Y_i \\log(\\mu) + \\left(1 - Y_i\\right) \\log\\left(1 - \\mu \\right) \\right]$$\n",
    "\n",
    "Using this equation, we can estimate the proportion by finding the value of $\\hat{\\mu}$ that maximizes this equation. In the machine learning world, we would call this function the *objective function*. Now we can consider how to find the parameter values that maximize this equation.\n",
    "\n",
    "Before we do that, let's translate this equation into code."
   ]
  },
  {
   "cell_type": "code",
   "execution_count": 10,
   "id": "0d4bfc9c",
   "metadata": {},
   "outputs": [],
   "source": [
    "def log_likelihood_individual(mu):\n",
    "    # Array of individual contributions to log-likelihood\n",
    "    return y_array*np.log(mu) + (1-y_array)*np.log(1-mu)\n",
    "\n",
    "def log_likelihood_proportion(mu):\n",
    "    logl_i = log_likelihood_individual(mu=mu)   # Individual contribution\n",
    "    logl = np.sum(logl_i)                       # Log-likelihood\n",
    "    return logl"
   ]
  },
  {
   "cell_type": "markdown",
   "id": "d13b6482",
   "metadata": {},
   "source": [
    "Now the trick is determining how to maximize the log-likelihood. \n",
    "\n",
    "Some algorithms we will use instead *minimize* the objective function. As a result, we often need to instead *minimize* the *negative* log-likelihood, which is equivalent as maximizing the log-likelihood. The following function applies the negative transformation for us that we will use."
   ]
  },
  {
   "cell_type": "code",
   "execution_count": 11,
   "id": "c8158866",
   "metadata": {},
   "outputs": [],
   "source": [
    "def neg_log_likelihood(mu):\n",
    "    logl = log_likelihood_proportion(mu=mu)\n",
    "    return -1*logl"
   ]
  },
  {
   "cell_type": "markdown",
   "id": "1efbeb3f",
   "metadata": {},
   "source": [
    "Having set up everything, we can now consider different approaches to optimizing this function. \n",
    "\n",
    "### 1.2.1 Grid-Search\n",
    "\n",
    "The simplest approach is to conduct a grid-search over the possible values of $\\hat{\\mu}$ and find which one gives us the smallest negative log-likelihood. \n",
    "\n",
    "Important to this approach is that we assume that $\\hat{\\mu}$ is between the starting values of our grid search. In the case of the proportion and starting our grid at $[0,1]$, we are reliably assume this.\n",
    "\n",
    "The following bit of code implements a basic grid search. Note that our grid search has an error tolerance. One the scale of our grid goes below this threshold, we stop our procedure and return the best value of $\\hat{\\mu}$ our procedure found."
   ]
  },
  {
   "cell_type": "code",
   "execution_count": 12,
   "id": "9aac3fb5",
   "metadata": {},
   "outputs": [],
   "source": [
    "def grid_search_min(loglikelihood, tolerance):\n",
    "    initial_grid = np.linspace(1e-15, 1-1e-15, num=12)\n",
    "    current_grid_width = initial_grid[1] - initial_grid[0]\n",
    "\n",
    "    # Conducting grid search until below tolerance\n",
    "    while current_grid_width > tolerance:\n",
    "        grid_evaluations = []\n",
    "        for grid_value in initial_grid:\n",
    "            eval_grid_logl = loglikelihood(mu=grid_value)\n",
    "            grid_evaluations.append(eval_grid_logl)\n",
    "            \n",
    "        # Finding min evaluation\n",
    "        min_index = np.argmin(grid_evaluations)  \n",
    "        mu_first = initial_grid[min_index]\n",
    "\n",
    "        # Finding second min evaluation\n",
    "        del grid_evaluations[min_index]\n",
    "        min2_index = np.argmin(grid_evaluations)  \n",
    "        initial_grid = list(initial_grid)\n",
    "        del initial_grid[min_index]\n",
    "        mu_second = initial_grid[min2_index]\n",
    "        \n",
    "        # Creating new grid\n",
    "        initial_grid = np.linspace(mu_first, mu_second, num=12)\n",
    "        \n",
    "        # Updating parameters\n",
    "        current_grid_width = np.abs(initial_grid[1] - initial_grid[0])\n",
    "    \n",
    "    return mu_first"
   ]
  },
  {
   "cell_type": "code",
   "execution_count": 13,
   "id": "f9bac784",
   "metadata": {},
   "outputs": [],
   "source": [
    "mu_grid = grid_search_min(loglikelihood=neg_log_likelihood, \n",
    "                          tolerance=1e-4)"
   ]
  },
  {
   "cell_type": "code",
   "execution_count": 14,
   "id": "a15f2c1e",
   "metadata": {},
   "outputs": [
    {
     "name": "stdout",
     "output_type": "stream",
     "text": [
      "0.33358377160030084\n"
     ]
    }
   ],
   "source": [
    "print(mu_grid)"
   ]
  },
  {
   "cell_type": "markdown",
   "id": "447eac4d",
   "metadata": {},
   "source": [
    "As we can see, there is substantial error. That is because our approach is not *exact*. Instead we have a pre-specified error tolerance and our algorithm terminates once that threshold is met. To get a better approximation, we can lower the error tolerance level. The following applies a smaller tolerance."
   ]
  },
  {
   "cell_type": "code",
   "execution_count": 15,
   "id": "5b24fae6",
   "metadata": {},
   "outputs": [],
   "source": [
    "mu_grid = grid_search_min(loglikelihood=neg_log_likelihood, \n",
    "                          tolerance=1e-12)"
   ]
  },
  {
   "cell_type": "code",
   "execution_count": 16,
   "id": "30332a1e",
   "metadata": {},
   "outputs": [
    {
     "name": "stdout",
     "output_type": "stream",
     "text": [
      "0.33333333641661783\n"
     ]
    }
   ],
   "source": [
    "print(mu_grid)"
   ]
  },
  {
   "cell_type": "markdown",
   "id": "538b230e",
   "metadata": {},
   "source": [
    "As seen, our answer is closer to 1/3. \n",
    "\n",
    "While a grid-search does work in this case, it is quite computationally intensive (as we have to consider whole grids of values) and doesn't easily generalize to settings with more than 1 parameter. Therefore, we consider more flexible alternatives.\n",
    "\n",
    "### 1.2.2 Nelder-Mead\n",
    "\n",
    "As the first alternative, we will use the Nelder-Mead algorithm. Here, we will use SciPy which provides Nelder-Mead and other maximization algorithms. These are implemented using very fast algorithms. Below illustrates how to apply this method"
   ]
  },
  {
   "cell_type": "code",
   "execution_count": 17,
   "id": "17041063",
   "metadata": {},
   "outputs": [],
   "source": [
    "mu_nm = sp.optimize.minimize(neg_log_likelihood,    # Likelihood to minimize\n",
    "                             x0=0.5,                # Starting values\n",
    "                             method='Nelder-Mead',  # Method to use for min\n",
    "                             tol=1e-9)              # Tolerance for covergence"
   ]
  },
  {
   "cell_type": "code",
   "execution_count": 18,
   "id": "1303ab0f",
   "metadata": {},
   "outputs": [
    {
     "name": "stdout",
     "output_type": "stream",
     "text": [
      "[0.33333334]\n"
     ]
    }
   ],
   "source": [
    "print(mu_nm.x)"
   ]
  },
  {
   "cell_type": "markdown",
   "id": "c9030520",
   "metadata": {},
   "source": [
    "Here our answer is close to 1/3 again.\n",
    "\n",
    "### 1.2.3 Monte Carlo\n",
    "\n",
    "Monte Carlo procedures are an alternative option for finding the maximum (or minimum) of a function. However, they have distinct operations from the previous methods. These methods are also common in Bayesian estimation. Regardless, this approach still focuses on maximizing the log-likelihood.\n",
    "\n",
    "Before we get to the code, let's go over an outline of Monte Carlo methods. Here, we are going to use a Metropolis sampling procedure. There are alternative mechanisms one can consider but Metropolis will work well here and is simple to implement. \n",
    "\n",
    "Essentially, we are going to take the parameter from the previous iteration and update it (using the candidate function defined above). Then we are going to evaluate the log-likelihood at the current parameter value and the proposed parameter value. Next, we calculate the probability of accepting the new proposed value. The probability of accepting the new value is based on the exponentiated difference in the log-likelihood. Finally, we resolve that probability to either keep the new value or the previous value. \n",
    "\n",
    "Because this is a probability, we will sometimes accept worse values, but this is okay for our purposes. As we will see, this allows the Monte Carlo to 'bounce' around values that are plausible for the likelihood. \n",
    "\n",
    "First, we will define a method to sample a new candidate value"
   ]
  },
  {
   "cell_type": "code",
   "execution_count": 19,
   "id": "042da737",
   "metadata": {},
   "outputs": [],
   "source": [
    "def sampler_candidate(beta, rng):\n",
    "    candidates = rng.normal(beta, scale=0.01)\n",
    "    return candidates"
   ]
  },
  {
   "cell_type": "markdown",
   "id": "34a19eaf",
   "metadata": {},
   "source": [
    "The following function conducts a single iteration of our Metropolis sampler."
   ]
  },
  {
   "cell_type": "code",
   "execution_count": 20,
   "id": "2a3c879f",
   "metadata": {},
   "outputs": [],
   "source": [
    "def metropolis_iteration(beta_init, rng):\n",
    "    # Get initial value\n",
    "    beta_prev = beta_init\n",
    "    # Get a new candidate value\n",
    "    beta_prop = sampler_candidate(beta=beta_prev, rng=rng)\n",
    "    \n",
    "    # Evaluate log-likelihood at both values\n",
    "    logl_prev = log_likelihood_individual(mu=beta_prev)\n",
    "    logl_prop = log_likelihood_individual(mu=beta_prop)\n",
    "\n",
    "    # Compute the probability of accepting the candidate\n",
    "    log_prob_accept = np.min([0, np.sum(logl_prop - logl_prev)])\n",
    "    prob_accept = np.exp(log_prob_accept)\n",
    "    \n",
    "    # Flip a coin to determine whether the accept candidate\n",
    "    accept = rng.binomial(n=1, p=prob_accept, size=1)\n",
    "    \n",
    "    # Resolve whether to accept candidate value\n",
    "    if accept == 1:\n",
    "        beta_prev = beta_prop\n",
    "    else:\n",
    "        pass\n",
    "    \n",
    "    # Return new value\n",
    "    return beta_prev"
   ]
  },
  {
   "cell_type": "markdown",
   "id": "e12c9745",
   "metadata": {},
   "source": [
    "Now we can wrap the function defined above to run the Metropolis sampler for a given number of iterations. We will save the values from each step (this is important for later!). It will be stored in a dictionary so we can easily pair the iteration number with the parameter value for that iteration."
   ]
  },
  {
   "cell_type": "code",
   "execution_count": 21,
   "id": "b08aae66",
   "metadata": {},
   "outputs": [],
   "source": [
    "def metropolis(init, m, prng):\n",
    "    beta = init    # Setting the initial value\n",
    "    chain = {}     # Dictionary to store chain\n",
    "    \n",
    "    # Call Monte-Carlo procedure a set number of time\n",
    "    for i in range(m):\n",
    "        beta = metropolis_iteration(beta_init=beta, rng=prng)\n",
    "        chain[i] = beta\n",
    "        \n",
    "    # Return the full chain\n",
    "    return chain"
   ]
  },
  {
   "cell_type": "markdown",
   "id": "041f404f",
   "metadata": {},
   "source": [
    "Unlike the previous procedures, this algorithm does not have an error-tolerance convergence condition. Instead, the user-specifies a maximum number of iterations and the process continues until that number is reached. To demonstrate this distinction, we will begin with a small number of iterations."
   ]
  },
  {
   "cell_type": "code",
   "execution_count": 22,
   "id": "b1c63eb0",
   "metadata": {},
   "outputs": [],
   "source": [
    "rng = np.random.RandomState(3992421)\n",
    "c = metropolis(init=0.8, m=250, prng=rng)"
   ]
  },
  {
   "cell_type": "code",
   "execution_count": 23,
   "id": "ce819db5",
   "metadata": {},
   "outputs": [
    {
     "data": {
      "text/plain": [
       "(0.0, 1.0)"
      ]
     },
     "execution_count": 23,
     "metadata": {},
     "output_type": "execute_result"
    },
    {
     "data": {
      "image/png": "[encoded data removed]",
      "text/plain": [
       "<Figure size 432x288 with 1 Axes>"
      ]
     },
     "metadata": {
      "needs_background": "light"
     },
     "output_type": "display_data"
    }
   ],
   "source": [
    "plt.plot(c.keys(), c.values(), '-')\n",
    "plt.ylabel(\"Parameter\")\n",
    "plt.xlabel(\"Iteration\")\n",
    "plt.ylim([0, 1])"
   ]
  },
  {
   "cell_type": "markdown",
   "id": "9cda8846",
   "metadata": {},
   "source": [
    "The above plot shows the current parameter value over the iteration. As we can see, the parameter wanders around a bit (or takes a 'random walk' around the parameter space). To explore the space and gravitate to the answer, we want to run a larger number of iterations.\n",
    "\n",
    "Now, let's run the Monte Carlo procedure for a large number of iterations."
   ]
  },
  {
   "cell_type": "code",
   "execution_count": 24,
   "id": "c6b99373",
   "metadata": {},
   "outputs": [],
   "source": [
    "rng = np.random.RandomState(3992421)\n",
    "c = metropolis(init=0.8, m=100000, prng=rng)"
   ]
  },
  {
   "cell_type": "code",
   "execution_count": 25,
   "id": "edf7c73c",
   "metadata": {},
   "outputs": [
    {
     "data": {
      "text/plain": [
       "(0.0, 1.0)"
      ]
     },
     "execution_count": 25,
     "metadata": {},
     "output_type": "execute_result"
    },
    {
     "data": {
      "image/png": "[encoded data removed]",
      "text/plain": [
       "<Figure size 432x288 with 1 Axes>"
      ]
     },
     "metadata": {
      "needs_background": "light"
     },
     "output_type": "display_data"
    }
   ],
   "source": [
    "plt.plot(c.keys(), c.values(), '-')\n",
    "plt.ylabel(\"Parameter\")\n",
    "plt.xlabel(\"Iteration\")\n",
    "plt.ylim([0, 1])"
   ]
  },
  {
   "cell_type": "markdown",
   "id": "a5e450f0",
   "metadata": {},
   "source": [
    "Here, we can see the space being explored. The parameter quickly leaves the starting value (0.8) as it fits poorly. Afterwards, we see the Monte Carlo procedure randomly jump around 0.3ish. \n",
    "\n",
    "To get our point estimate, we want to summarize these random walks as a single value. This can be done by calculating the mean or median of those values (ignore the circularity of needing to estimate the mean to get the proportion here). Generally, we drop the values at the start of the process since it needs to 'traverse' the space. Here, we will drop the first 1000 iterations."
   ]
  },
  {
   "cell_type": "code",
   "execution_count": 26,
   "id": "b2e85b31",
   "metadata": {},
   "outputs": [
    {
     "name": "stdout",
     "output_type": "stream",
     "text": [
      "0.3430506027472018\n"
     ]
    }
   ],
   "source": [
    "param_iters = list(c.values())[999:]\n",
    "print(np.median(param_iters))"
   ]
  },
  {
   "cell_type": "markdown",
   "id": "d666b40a",
   "metadata": {},
   "source": [
    "Here, we can see the point estimate is slightly different from the closed-form. This results from the simulation error. As the number of iterations $\\rightarrow \\infty$, the median or mean of the parameters should go to the closed form solution. "
   ]
  },
  {
   "cell_type": "markdown",
   "id": "8d060d84",
   "metadata": {},
   "source": [
    "### 1.2.4 Evolutionary algorithms\n",
    "\n",
    "Another class of algorithms for maximization are *evolutionary algorithms*. These algorithms are inspired by the process of evolution or natural selection. Here, we are going to implement a simple evolutionary algorithm from scratch to compute the proportion. \n",
    "\n",
    "First, let's review some essential ideas for these types of algorithms. Our algorithm is going to start with a 'population' of individuals. This 'population' is going to contain some guesses for the mean. We are then going to evaluate each individual in terms of their 'fitness', where the fitness is the performance in terms of the objective function (i.e., the log-likelihood function in this case). Those individuals who have the greatest fitness are then used to produce the next generation. The reproduction cycle is repeated for a set amount of time.\n",
    "\n",
    "To effectively search, we need the values of the inputs to change between generations. If the parents produce exact copies of themselves as children, we won't make any progress. So, we will introduce two types of variation in ou algorithm: genetic cross-over between parents and random point mutations. These allow children to vary from the parents. Therefore, we anticipate that children over successive generations will 'adapt' to finding the greatest fitness.\n",
    "\n",
    "At this point, you might be wondering how this is applied computationally. Everything so far has been described under the guise of evolution. What does the genetic material of a 'number' look like? We will use the binary representation of numbers as their 'DNA'. Two functions are provided below which convert between floating point and binary representations.  "
   ]
  },
  {
   "cell_type": "code",
   "execution_count": 27,
   "id": "e7ee866a",
   "metadata": {},
   "outputs": [],
   "source": [
    "def convert_float_to_binary(value):\n",
    "    [d] = struct.unpack(\">Q\", struct.pack(\">d\", value))\n",
    "    return '{:064b}'.format(d)\n",
    "\n",
    "\n",
    "def convert_binary_to_float(binary):\n",
    "    bf = int(binary, 2).to_bytes(8, byteorder='big')\n",
    "    return struct.unpack('>d', bf)[0]"
   ]
  },
  {
   "cell_type": "code",
   "execution_count": 28,
   "id": "fde7b206",
   "metadata": {},
   "outputs": [
    {
     "data": {
      "text/plain": [
       "'0011111111110101101101010000101100001111001001111011101100110000'"
      ]
     },
     "execution_count": 28,
     "metadata": {},
     "output_type": "execute_result"
    }
   ],
   "source": [
    "b = convert_float_to_binary(1.3567)\n",
    "b"
   ]
  },
  {
   "cell_type": "code",
   "execution_count": 29,
   "id": "5691e4ae",
   "metadata": {},
   "outputs": [
    {
     "data": {
      "text/plain": [
       "1.3567"
      ]
     },
     "execution_count": 29,
     "metadata": {},
     "output_type": "execute_result"
    }
   ],
   "source": [
    "convert_binary_to_float(b)"
   ]
  },
  {
   "cell_type": "markdown",
   "id": "cd5474ea",
   "metadata": {},
   "source": [
    "In the application of those functions, we can see how `1.3567` is stored as a series of 1's and 0's. That sequence of binary digits will be the 'DNA' of our number. It uniquely defines our number (in 64 bits). Different numbers of bits could also be used.\n",
    "\n",
    "Now we can described cross-overs and point mutations. A cross-over occurs when we take two parents (two strings of binary digits) and create a child whose sequence consists of the first parent up to the $k$ digit and then is followed by the remainder of digits from the second parent. Below is a function that implements this to create both possible child combinations"
   ]
  },
  {
   "cell_type": "code",
   "execution_count": 30,
   "id": "e1334441",
   "metadata": {},
   "outputs": [],
   "source": [
    "def crossover(value_1, value_2, rng):\n",
    "    # Random chance whether a cross-over occurs\n",
    "    if rng.uniform(0, 1) < crossover_rate:\n",
    "        # Selecting point where cross-over occurs\n",
    "        crossover_loc = np.random.randint(1, len(value_1) - 2)\n",
    "        ch_1 = value_1[:crossover_loc] + value_2[crossover_loc:]\n",
    "        ch_2 = value_2[:crossover_loc] + value_1[crossover_loc:]\n",
    "    # No cross-over otherwise\n",
    "    else:\n",
    "        ch_1 = parent_1\n",
    "        ch_2 = parent_2\n",
    "    return ch_1, ch_2"
   ]
  },
  {
   "cell_type": "markdown",
   "id": "693453ac",
   "metadata": {},
   "source": [
    "Point mutations simply flip 0 to 1 and 1 to 0 randomly. Below is a function to implement point mutations for a given mutation rate"
   ]
  },
  {
   "cell_type": "code",
   "execution_count": 31,
   "id": "56250dfe",
   "metadata": {},
   "outputs": [],
   "source": [
    "def mutation(value, rng):\n",
    "    value_list = list(value)\n",
    "    for i in range(len(value_list)):\n",
    "        if rng.uniform(0, 1) < mutation_rate:\n",
    "            value_list[i] = str(1 - int(value_list[i]))\n",
    "    return ''.join(value_list)"
   ]
  },
  {
   "cell_type": "markdown",
   "id": "5f485b41",
   "metadata": {},
   "source": [
    "The final item we need is to decide how parents are selected. Below is a function the evaluates the parents and selects the best $m$ parents from that generation. These parents will be used to create the next generation."
   ]
  },
  {
   "cell_type": "code",
   "execution_count": 32,
   "id": "3f4ea9ee",
   "metadata": {},
   "outputs": [],
   "source": [
    "def select_parents(objective_function, parents, parent_n):\n",
    "    evaluated_i = objective_function(parents[:, None])\n",
    "    evaluated = np.sum(evaluated_i, axis=1)\n",
    "\n",
    "    evaluated_no_nan = evaluated[~np.isnan(evaluated)]\n",
    "    parents_no_nan = parents[~np.isnan(evaluated)]\n",
    "    best_of_gen = np.argpartition(evaluated_no_nan, -parent_n)[-parent_n:]\n",
    "\n",
    "    parents_of_next_gen = parents_no_nan[best_of_gen]\n",
    "    return parents_of_next_gen"
   ]
  },
  {
   "cell_type": "markdown",
   "id": "ab36938d",
   "metadata": {},
   "source": [
    "Now that the basic elements of our evolutionary algorithm are defined, we can define a set of hyperparameters we will use. Each of these parameters is defined below"
   ]
  },
  {
   "cell_type": "code",
   "execution_count": 33,
   "id": "586ea5ca",
   "metadata": {},
   "outputs": [],
   "source": [
    "# Initial parameters\n",
    "pop_size = 100          # Number of individuals in each generation\n",
    "parent_n = 10           # Number of parents to generate next generation\n",
    "crossover_rate = 0.5    # Probability of cross-over occurring\n",
    "mutation_rate = 1 / 16  # Point mutation probability\n",
    "generations = 100       # Number of generations to run\n",
    "\n",
    "# Some starting values (slightly off the truth to showcase the algorithm)\n",
    "starting_values = np.linspace(0.4, 0.95, pop_size)\n",
    "\n",
    "# Creating a random number generation for consistency\n",
    "rng = np.random.RandomState(8419812)"
   ]
  },
  {
   "cell_type": "markdown",
   "id": "dd6fb1c7",
   "metadata": {},
   "source": [
    "The following code implements our evolutionary algorithm. In each step of the for loop, we evaluate the current generation, select the most fit individuals, and produce offspring for the next generation. This continues for the set number of generations, like the Monte Carlo procedure. Unlike the Monte Carlo approach, the best individual in the final generation will be our point estimate of the proportion (instead of a median or mean across generations)."
   ]
  },
  {
   "cell_type": "code",
   "execution_count": 34,
   "id": "7a0f23f9",
   "metadata": {},
   "outputs": [
    {
     "name": "stderr",
     "output_type": "stream",
     "text": [
      "C:\\Users\\zivic\\AppData\\Local\\Temp\\ipykernel_17460\\3279974742.py:3: RuntimeWarning: invalid value encountered in log\n",
      "  return y_array*np.log(mu) + (1-y_array)*np.log(1-mu)\n",
      "C:\\Users\\zivic\\AppData\\Local\\Temp\\ipykernel_17460\\3279974742.py:3: RuntimeWarning: invalid value encountered in subtract\n",
      "  return y_array*np.log(mu) + (1-y_array)*np.log(1-mu)\n"
     ]
    },
    {
     "data": {
      "text/plain": [
       "array([0.33333333])"
      ]
     },
     "execution_count": 34,
     "metadata": {},
     "output_type": "execute_result"
    }
   ],
   "source": [
    "# Initial parents at the starting values\n",
    "parents = starting_values\n",
    "\n",
    "# Running the generations\n",
    "for g in range(generations-1):\n",
    "    # Evaluating and selecting parents\n",
    "    next_gen_parents = select_parents(objective_function=log_likelihood_individual, \n",
    "                                      parents=parents,\n",
    "                                      parent_n=parent_n)\n",
    "\n",
    "    # Converting parents to their DNA sequences\n",
    "    parent_dna = [convert_float_to_binary(v) for v in next_gen_parents]\n",
    "\n",
    "    # Creating new DNA for children\n",
    "    parent_pairs = rng.randint(0, parent_n, size=2*pop_size)  # Pairing parents\n",
    "    children = []                                             # Storage for children\n",
    "    for i in range(0, pop_size, 2):\n",
    "        # Looking up parent pairs\n",
    "        parent_1 = parent_dna[parent_pairs[i]]      # Getting DNA of first parent\n",
    "        parent_2 = parent_dna[parent_pairs[i + 1]]  # Getting DNA of second parent\n",
    "        \n",
    "        # Cross-over\n",
    "        child_1, child_2 = crossover(value_1=parent_1, \n",
    "                                     value_2=parent_2,\n",
    "                                     rng=rng)\n",
    "\n",
    "        # Random point mutations\n",
    "        child_1 = mutation(child_1, rng=rng)\n",
    "        child_2 = mutation(child_2, rng=rng)\n",
    "\n",
    "        # Converting back to float\n",
    "        children.append(convert_binary_to_float(child_1))\n",
    "        children.append(convert_binary_to_float(child_2))\n",
    "    \n",
    "    # Setting children to be the next set of parents\n",
    "    parents = np.asarray(children)\n",
    "\n",
    "\n",
    "# Creating final generation of parents\n",
    "final_parent = select_parents(objective_function=log_likelihood_individual, \n",
    "                              parents=parents,\n",
    "                              parent_n=1)\n",
    "# Selecting the best parent as the point estimate for the proportion\n",
    "final_parent"
   ]
  },
  {
   "cell_type": "markdown",
   "id": "8abe41f5",
   "metadata": {},
   "source": [
    "Our final estimate is `0.333`. However, note that it is slighly different from 1/3. Like the Monte Carlo method, this is because the algorithm is random and there is no defined stopping point. In the same way, we want to run our algorithm over many iterations to obtain a good solution. Better approximations to the proportion may be possible by (1) increasing the number of generations, (2) giving better starting values, (3) adapting the mutation or cross over rates, (4) changing the number of parents in each generation, or (5) increasing the population size in each generation. Try messing around with these hyperparameters yourself to see how performance changes.\n",
    "\n",
    "In addition to these changes, there are many variations on how evolutionary algorithms can be implemented. These variations are not reviewed here (but the above algorithm could be adapted to these variations). One of note is the selection mechanism for parents. Here, we used a simple mechanism for selection of parents (the top $x$ performing parents). In complex settings, this selection approach might get stuck in local minima. This was not a concern in our application, as there is only a single maximum, but this might be a concern in other applications.\n",
    "\n",
    "#### Further Reading\n",
    "\n",
    "Katoch S, Chauhan SS, & Kumar V. (2021). A review on genetic algorithm: past, present, and future. *Multimedia tools and applications*, 80, 8091-8126."
   ]
  },
  {
   "cell_type": "markdown",
   "id": "f97cc878",
   "metadata": {},
   "source": [
    "## 1.4 Root-finding\n",
    "\n",
    "Instead of minimizing (or maximizing), another option is to rewrite the original estimator as an equation equal to zero. Then we can search for the value of $\\hat{\\mu}$ that returns a zero. For this method, we first need our estimating equation. The estimating equation is a sum over all observations that is a function of the random variable, the parameter, and is equal to zero. The estimating equation for the proportion is\n",
    "$$ \\hat{\\mu} = \\frac{\\sum_{i=1}^n I(Y_i = 1)}{n} $$\n",
    "$$ n \\hat{\\mu} = \\sum_{i=1}^n I(Y_i = 1) $$\n",
    "$$ 0 = \\sum_{i=1}^n I(Y_i = 1) - n \\hat{\\mu} $$\n",
    "$$ 0 = \\sum_{i=1}^n I(Y_i = 1) - \\sum_{i=1}^n \\hat{\\mu} $$\n",
    "$$ 0 = \\sum_{i=1}^n \\left[ I(Y_i = 1) - \\hat{\\mu} \\right] $$\n",
    "Therefore, we can find the proportion by finding the value of $\\hat{\\mu}$ that results in a zero for the above equation.\n",
    "\n",
    "For ease, I will write the estimating equation as a generic function."
   ]
  },
  {
   "cell_type": "code",
   "execution_count": 35,
   "id": "ac20e3e7",
   "metadata": {},
   "outputs": [],
   "source": [
    "def estimating_equation(mu):\n",
    "    evaluated_ee = 0\n",
    "    for yi in y_array:\n",
    "        contribution_i = yi - mu\n",
    "        evaluated_ee = evaluated_ee + contribution_i\n",
    "    return evaluated_ee"
   ]
  },
  {
   "cell_type": "markdown",
   "id": "d7067cee",
   "metadata": {},
   "source": [
    "In general, algorithms to solve the previous equations are called *root-finding algorithms*, as the location of the zero point for a function is called its *root*. Here, we will consider a few options for root-finding algorithms. To start, we will start with a grid search approach.\n",
    "\n",
    "### 1.4.1 Grid-Search\n",
    "\n",
    "The simplest option for searching for the value of $\\hat{\\mu}$ that returns zero is to conduct a grid-search. This will be similar to the approach used for the minimization problem, but instead we will be looking for the point closest to zero. "
   ]
  },
  {
   "cell_type": "code",
   "execution_count": 36,
   "id": "8f1ac512",
   "metadata": {},
   "outputs": [],
   "source": [
    "def root_grid(eequation, initial=[0, 1], tolerance=1e-9):\n",
    "    # Setup\n",
    "    left, right = initial[0], initial[1]\n",
    "    mu_left = eequation(left)\n",
    "    mu_right = eequation(right)\n",
    "    error = 999\n",
    "    \n",
    "    # Simple grid-search\n",
    "    while error > tolerance:\n",
    "        center = (left + right) / 2    # Center\n",
    "        mu_center = eequation(center)  # Function at center\n",
    "\n",
    "        # Determining new cut-points\n",
    "        if mu_center < 0:\n",
    "            if left < 0:\n",
    "                left = center\n",
    "            else:\n",
    "                right = center\n",
    "        if mu_center >= 0:\n",
    "            if left >= 0:\n",
    "                left = center\n",
    "            else:\n",
    "                right = center\n",
    "\n",
    "        # Computing updated error\n",
    "        error = np.abs(mu_center)\n",
    "\n",
    "    # Return parameter at the root\n",
    "    return center"
   ]
  },
  {
   "cell_type": "code",
   "execution_count": 37,
   "id": "3b35b77d",
   "metadata": {},
   "outputs": [],
   "source": [
    "mu_root = root_grid(eequation=estimating_equation, initial=[0, 1])"
   ]
  },
  {
   "cell_type": "code",
   "execution_count": 38,
   "id": "0fe64e19",
   "metadata": {},
   "outputs": [
    {
     "name": "stdout",
     "output_type": "stream",
     "text": [
      "0.3333333333430346\n"
     ]
    }
   ],
   "source": [
    "print(mu_root)"
   ]
  },
  {
   "cell_type": "markdown",
   "id": "9c3dff06",
   "metadata": {},
   "source": [
    "Important to this approach is that we assume that $\\hat{\\mu}$ is between the values. In the case of the proportion and starting our grid at $[0,1]$, we are reliably assume this. Another issue with a grid-search is that it is limited to a single parameter (okay for the proportion setting being considered). Finally, it requires computing the estimating equation for lots of different parameter values. \n",
    "\n",
    "To avoid these difficulties, we will take a brief tour through some other popular root-finding algorithms. For simplicity, we will use their SciPy implementations.\n",
    "\n",
    "### 1.4.2 Levenberg-Marquardt\n",
    "\n",
    "Here, we will use a built-in function from SciPy."
   ]
  },
  {
   "cell_type": "code",
   "execution_count": 39,
   "id": "03f4f626",
   "metadata": {},
   "outputs": [],
   "source": [
    "mu_root = sp.optimize.root(estimating_equation, \n",
    "                           x0=0.5, \n",
    "                           method='lm')"
   ]
  },
  {
   "cell_type": "code",
   "execution_count": 40,
   "id": "065f0863",
   "metadata": {},
   "outputs": [
    {
     "name": "stdout",
     "output_type": "stream",
     "text": [
      "[0.33333333]\n"
     ]
    }
   ],
   "source": [
    "print(mu_root.x)"
   ]
  },
  {
   "cell_type": "markdown",
   "id": "87eaed0b",
   "metadata": {},
   "source": [
    "Root-finding has another important relationship to minimization algorithms. Rather than rewrite an equation, one could instead take the derivative of the function we are minimizing. The slope (derivative) at the minimum is zero. Therefore, root-finding is equivalent to minimization when functions have a single minimum."
   ]
  },
  {
   "cell_type": "markdown",
   "id": "d2afa589",
   "metadata": {},
   "source": [
    "## 1.5 Conclusions\n",
    "\n",
    "This concludes the review of optimization procedures for the proportion. There are many other algorithms out there, but we saw that all these different approaches basically gave the same answer (or same answer within a given error tolerance). The basic principles reviewed here will get you many places and can be extended in multiple ways. If interested, consider going into the further reading.\n",
    "\n",
    "The next lecture will consider ways to compute the variance for the proportion."
   ]
  }
 ],
 "metadata": {
  "kernelspec": {
   "display_name": "Python 3 (ipykernel)",
   "language": "python",
   "name": "python3"
  },
  "language_info": {
   "codemirror_mode": {
    "name": "ipython",
    "version": 3
   },
   "file_extension": ".py",
   "mimetype": "text/x-python",
   "name": "python",
   "nbconvert_exporter": "python",
   "pygments_lexer": "ipython3",
   "version": "3.9.4"
  }
 },
 "nbformat": 4,
 "nbformat_minor": 5
}
